{
 "cells": [
  {
   "cell_type": "code",
   "execution_count": null,
   "metadata": {},
   "outputs": [],
   "source": [
    "\n",
    "import pandas as pd\n",
    "from datasets import load_dataset\n",
    "from nltk import ngrams\n",
    "from nltk.util import skipgrams\n",
    "\n",
    "import spacy\n",
    "\n",
    "n=11\n",
    "df_list = []\n",
    "\n",
    "run=\"I\"\n",
    "\n",
    "def unique_ngram_ratio(s, n):\n",
    "    nglist = [ng for ng in ngrams(s.split(), n)]\n",
    "    if len(nglist) != 0:\n",
    "        return len(set(nglist))/len(nglist)\n",
    "    else:\n",
    "        return 0\n",
    "\n",
    "\n",
    "def unique_skipgram_ratio(s, n,d):\n",
    "    nglist = list(skipgrams(s, n, d))\n",
    "    if len(nglist) != 0:\n",
    "        return len(set(nglist))/len(nglist)\n",
    "    else:\n",
    "        return 0\n",
    "        \n",
    "\n",
    "df_list = []\n",
    "\n",
    "for i in range(11):\n",
    "    print(i)\n",
    "    load = load_dataset(\"danigambit/doc_gen_\"+str(i)+\"_\"+str(run))\n",
    "    df = pd.DataFrame(load[\"train\"])\n",
    "    \n",
    "    for n in range(2,6):\n",
    "        df[str(n)+\"_gram_unique\"] = df[\"doc\"].apply(lambda s: unique_ngram_ratio(s,n))\n",
    "\n",
    "    for n in range(2,6):\n",
    "        for d in range(2,6):\n",
    "            df[str(n)+\"_\"+str(d)+\"_skipgram_unique\"] = df[\"doc\"].apply(lambda s: unique_skipgram_ratio(s,n,d))\n",
    "    \n",
    "    df_list.append(df)\n",
    "        "
   ]
  }
 ],
 "metadata": {
  "language_info": {
   "name": "python"
  }
 },
 "nbformat": 4,
 "nbformat_minor": 2
}
